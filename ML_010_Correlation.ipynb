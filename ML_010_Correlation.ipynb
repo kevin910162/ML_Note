{
 "cells": [
  {
   "cell_type": "markdown",
   "metadata": {},
   "source": [
    "### DAY_010 Note"
   ]
  },
  {
   "cell_type": "markdown",
   "metadata": {},
   "source": [
    "Tips :  遇到 y 的本質不是連續數值時.....按照原始值繪圖可能看不出甚麼，可利用boxplot進一步做判斷"
   ]
  },
  {
   "cell_type": "markdown",
   "metadata": {},
   "source": [
    "Tips :  檢視不同數值範圍的變數......直接以原始值繪圖很難看出甚麼時，可以對Y軸做log scale轉換"
   ]
  },
  {
   "cell_type": "code",
   "execution_count": null,
   "metadata": {},
   "outputs": [],
   "source": [
    "### How to calculate the coefficient\n",
    "\n",
    "corr = np.corrcoef(sub_df['DAYS_EMPLOYED'] / (-365), sub_df['AMT_INCOME_TOTAL'])\n",
    "\n",
    "### 如何print&表達\n",
    "\n",
    "corr([0][1])"
   ]
  },
  {
   "cell_type": "code",
   "execution_count": null,
   "metadata": {},
   "outputs": [],
   "source": []
  },
  {
   "cell_type": "markdown",
   "metadata": {},
   "source": [
    "當原始資料是非數值的類別型資料的時候，必須要先用 Label Encoding 將資料轉成數值。\n",
    "\n",
    "這樣才能配合之後的演算法/數學模型進行運算。簡單來說，就是將原本的 N 種字串資料標記（Label ）成不同的數字。\n",
    "\n",
    "不過也因為這樣，假如原本的資料是沒有順序性的話會產生問題，就必須在進行 One-Hot-Encoding。"
   ]
  },
  {
   "cell_type": "markdown",
   "metadata": {},
   "source": [
    "物件化 => fit => transform 是典型的 sklearn 用法，可以這樣理解\n",
    "\n",
    "* le =LabelEncoder() => 決定使用 LabelEncoder 物件\n",
    "\n",
    "* le.fit(app_train[col]) => 要考慮的是 app_train[col] 的資料，這一步可以想像成是建模\n",
    "\n",
    "* le.transform(app_train[col]) => 將結果應用到資料上，這一步可以想像成將模型使用到資料"
   ]
  },
  {
   "cell_type": "code",
   "execution_count": null,
   "metadata": {},
   "outputs": [],
   "source": [
    "for col in app_train:\n",
    "    if app_train[col].dtype == 'object':\n",
    "        # If 2 or fewer unique categories\n",
    "        if len(list(app_train[col].unique())) <= 2:\n",
    "            # Train on the training data\n",
    "            le.fit(app_train[col])\n",
    "            # Transform both training and testing data\n",
    "            app_train[col] = le.transform(app_train[col])\n",
    "            app_test[col] = le.transform(app_test[col])\n",
    "            \n",
    "            # Keep track of how many columns were label encoded\n",
    "            le_count += 1"
   ]
  },
  {
   "cell_type": "markdown",
   "metadata": {},
   "source": [
    "這段程式碼就是將原始資料中非數值的欄位（dtype =='object'）分別進行 Label Encoding 的操作。"
   ]
  },
  {
   "cell_type": "code",
   "execution_count": null,
   "metadata": {},
   "outputs": [],
   "source": [
    "app_train = pd.get_dummies(app_train)\n",
    "app_test = pd.get_dummies(app_test)"
   ]
  },
  {
   "cell_type": "markdown",
   "metadata": {},
   "source": [
    "上述為onehot之處理，對於無大小排序的屬性資料數字，進行onehot處理"
   ]
  },
  {
   "cell_type": "markdown",
   "metadata": {},
   "source": [
    "### 老師解答"
   ]
  },
  {
   "cell_type": "markdown",
   "metadata": {},
   "source": [
    "get_dummies 跟 onehot 本質上是做一樣的東西，都是把一個類別型的欄位轉成 N 個由值所組成的布林欄位\n",
    "\n",
    "只是剛好 Pandas 跟 Scikit-Learn 兩個 Library 都有實作。\n",
    "\n",
    "![title](img/Onehot&Dummies.jpeg)\n",
    "\n",
    "他們在用法上有幾點差異，提供你參考：\n",
    "1. get_dummies 是 Pandas 實作的，OneHotEncoder 是由 Scikit-Learn 提供。\n",
    "\n",
    "2. pd.get_dummies 可以直接處理類別字串欄位，OneHotEncoder 無法（必須先做 LabelEncoding 轉成數字）。\n",
    "\n",
    "3. pd.get_dummies 返回的為 DataFrame，OneHotEncoder 返回的是二維陣列\n",
    "\n",
    "4. pd.get_dummies 的彈性比較高，可以指定轉換後的名稱之類的，OneHotEncoder 必須手動調整。"
   ]
  },
  {
   "cell_type": "markdown",
   "metadata": {},
   "source": [
    "pandas 很貼心地讓我們可以非常容易計算相關係數"
   ]
  },
  {
   "cell_type": "code",
   "execution_count": null,
   "metadata": {},
   "outputs": [],
   "source": [
    "## 列出所有dataframe中與 target這個欄位的相關係數\n",
    "app_train.corr()['TARGET']"
   ]
  },
  {
   "cell_type": "markdown",
   "metadata": {},
   "source": [
    "如何排序元素??"
   ]
  },
  {
   "cell_type": "code",
   "execution_count": null,
   "metadata": {},
   "outputs": [],
   "source": [
    "heapq.nlargest(n, iterable, key=None) 返回最大的n個元素（Top-K問題）\n",
    "\n",
    "heapq.nsmallest(n, iterable, key=None) 返回最小的n個元素（Top-K問題）"
   ]
  }
 ],
 "metadata": {
  "kernelspec": {
   "display_name": "Python 3",
   "language": "python",
   "name": "python3"
  },
  "language_info": {
   "codemirror_mode": {
    "name": "ipython",
    "version": 3
   },
   "file_extension": ".py",
   "mimetype": "text/x-python",
   "name": "python",
   "nbconvert_exporter": "python",
   "pygments_lexer": "ipython3",
   "version": "3.7.0"
  }
 },
 "nbformat": 4,
 "nbformat_minor": 2
}
